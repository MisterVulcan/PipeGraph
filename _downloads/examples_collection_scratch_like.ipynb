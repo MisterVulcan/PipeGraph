{
  "nbformat_minor": 0, 
  "nbformat": 4, 
  "cells": [
    {
      "execution_count": null, 
      "cell_type": "code", 
      "source": [
        "%matplotlib inline"
      ], 
      "outputs": [], 
      "metadata": {
        "collapsed": false
      }
    }, 
    {
      "source": [
        "\nSyntaxError\n===========\n\nExample script with invalid Python syntax\n\n"
      ], 
      "cell_type": "markdown", 
      "metadata": {}
    }, 
    {
      "execution_count": null, 
      "cell_type": "code", 
      "source": [
        "#from sklearn.datasets import load_boston\n\nimport numpy as np\nfrom sklearn.preprocessing import MinMaxScaler\nfrom sklearn.linear_model import LinearRegression\nfrom pipegraph.pipeGraph import PipeGraphRegressor\nimport matplotlib.pyplot as plt\n%matplotlib qt\n##\n# Ejemplo 1: sc + lm\nX = np.random.rand(100,1)\ny = 4 * X + 0.5*np.random.randn(100,1)\nscaler = MinMaxScaler()\nlinear_model = LinearRegression()\nsteps = [('scaler', scaler), ('linear_model', linear_model)]\nconnections = {'scaler': { 'X': 'X'}, 'linear_model': {'X': ('scaler', 'predict'),  'y': 'y' }  }\npgraph = PipeGraphRegressor(steps=steps, connections=connections)\npgraph.fit(X, y)\ny_pred = pgraph.predict(X)\nplt.scatter(X, y)\nplt.scatter(X, y_pred)\nplt.show()\nlinear_model.coef_\n\n##\n# Ejemplo 2: sc + feature + lm\n#   usando gridsearchcv\n\nimport numpy as np\nfrom sklearn.preprocessing import MinMaxScaler\nfrom sklearn.preprocessing import PolynomialFeatures\nfrom sklearn.linear_model import LinearRegression\nfrom sklearn.model_selection import GridSearchCV\nfrom pipegraph.pipeGraph import PipeGraphRegressor\n\nimport matplotlib.pyplot as plt\n%matplotlib qt\n\nX = 2*np.random.rand(100,1)-1\ny = 40 * X**5 + 3*X*2 +  3*X + 3*np.random.randn(100,1)\n\nscaler = MinMaxScaler()\npolynomial_features = PolynomialFeatures()\nlinear_model = LinearRegression()\n\nsteps = [('scaler', scaler),\n         ('polynomial_features', polynomial_features),\n         ('linear_model', linear_model)]\n\nconnections = {'scaler': { 'X': 'X'},\n               'polynomial_features': {'X': ('scaler', 'predict')},\n               'linear_model': {'X': ('polynomial_features', 'predict'),\n                                'y': 'y' }  }\n\nparam_grid = {'polynomial_features__degree': range(1, 11),\n              'linear_model__fit_intercept': [True, False]}\npgraph = PipeGraphRegressor(steps=steps, connections=connections)\ngrid_search_regressor  = GridSearchCV(estimator=pgraph, param_grid=param_grid, refit=True, error_score=neg)\ngrid_search_regressor.fit(X, y)\ny_pred = grid_search_regressor.predict(X)\nplt.scatter(X, y)\nplt.scatter(X, y_pred)\nplt.show()\ngrid_search_regressor.best_estimator_.get_params()['linear_model'].coef_\ngrid_search_regressor.best_estimator_.get_params()['polynomial_features'].degree\n\n##\n# Ejemplo 3. con potencias\nfrom sklearn.base import BaseEstimator\n\nclass CustomPower(BaseEstimator):\n    def __init__(self, power=1):\n        self.power=power\n\n    def fit(self):\n        return self\n\n    def predict(self, X):\n        return X**self.power\n\n\nX = np.array([0, 1, 2, 3, 4, 5, 6, 7]).reshape(-1,1)\ny = np.array([0, 1, 4, 9, 16, 25, 60, 85])\nsample_weight= np.array([0.95, 0.95, 0.95, 0.95, 0.95, 0.95, 0.1, 0.1])\nscaler = MinMaxScaler()\npolynomial_features = PolynomialFeatures()\nlinear_model = LinearRegression()\ncustom_power = CustomPower()\n\nsteps = [('custom_power', custom_power),\n         ('scaler', scaler),\n         ('polynomial_features', polynomial_features),\n         ('linear_model', linear_model)]\n\nconnections = { 'custom_power': { 'X': 'sample_weight'},\n                'scaler': { 'X': 'X'},\n                'polynomial_features': {'X': ('scaler', 'predict')},\n                'linear_model': {'X': ('polynomial_features', 'predict'),\n                                'y': 'y',\n                                 'sample_weight': ('custom_power', 'predict')}  }\n\n\nparam_grid = {'polynomial_features__degree': range(1, 11),\n              'linear_model__fit_intercept': [True, False],\n              'custom_power__power': [1, 5, 10]}\n\npgraph = PipeGraphRegressor(steps=steps, connections=connections)\ngrid_search_regressor  = GridSearchCV(estimator=pgraph, param_grid=param_grid, refit=True)\ngrid_search_regressor.fit(X, y, sample_weight=sample_weight)\ny_pred = grid_search_regressor.predict(X)\nplt.scatter(X, y)\nplt.scatter(X, y_pred)\nplt.show()"
      ], 
      "outputs": [], 
      "metadata": {
        "collapsed": false
      }
    }
  ], 
  "metadata": {
    "kernelspec": {
      "display_name": "Python 2", 
      "name": "python2", 
      "language": "python"
    }, 
    "language_info": {
      "mimetype": "text/x-python", 
      "nbconvert_exporter": "python", 
      "name": "python", 
      "file_extension": ".py", 
      "version": "2.7.11", 
      "pygments_lexer": "ipython2", 
      "codemirror_mode": {
        "version": 2, 
        "name": "ipython"
      }
    }
  }
}