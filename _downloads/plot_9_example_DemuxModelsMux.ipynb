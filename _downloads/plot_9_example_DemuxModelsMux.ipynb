{
  "cells": [
    {
      "cell_type": "code",
      "execution_count": null,
      "metadata": {
        "collapsed": false
      },
      "outputs": [],
      "source": [
        "%matplotlib inline"
      ]
    },
    {
      "cell_type": "markdown",
      "metadata": {},
      "source": [
        "\n\nNinth Example: # GridSearch on dynamically built component using input signal values\n------------------------------------------------------------------------------------\n\nWe continue demonstrating several interesting features:\n 1. How the user can choose to encapsulate several blocks into a PipeGraph and use it as a single unit in another PipeGraph\n 2. How these components can be dynamically built on runtime depending on initialization parameters\n 3. How these components can be dynamically built on runtime depending on input signal values during fit\n 4. Using GridSearchCV to explore the best combination of hyperparameters\n\n\n"
      ]
    },
    {
      "cell_type": "code",
      "execution_count": null,
      "metadata": {
        "collapsed": false
      },
      "outputs": [],
      "source": [
        "import numpy as np\nimport pandas as pd\nimport matplotlib.pyplot as plt\nfrom sklearn.preprocessing import MinMaxScaler\nfrom sklearn.mixture import GaussianMixture\nfrom sklearn.linear_model import LinearRegression\nfrom sklearn.model_selection import train_test_split\n\nfrom pipegraph.base import ( PipeGraphRegressor,\n                             RegressorsWithDataDependentNumberOfReplicas,\n                             NeutralRegressor,\n                             )\n\nX_first = pd.Series(np.random.rand(100,))\ny_first = pd.Series(4 * X_first + 0.5*np.random.randn(100,))\nX_second = pd.Series(np.random.rand(100,) + 3)\ny_second = pd.Series(-4 * X_second + 0.5*np.random.randn(100,))\nX_third = pd.Series(np.random.rand(100,) + 6)\ny_third = pd.Series(2 * X_third + 0.5*np.random.randn(100,))\n\nX = pd.concat([X_first, X_second, X_third], axis=0).to_frame()\ny = pd.concat([y_first, y_second, y_third], axis=0).to_frame()\n\nX_train, X_test, y_train, y_test = train_test_split(X, y)"
      ]
    },
    {
      "cell_type": "markdown",
      "metadata": {},
      "source": [
        "Now we consider the possibility of using the classifier's output to automatically adjust the number of replicas.\nThis can be seen as PipeGraph changing its inner topology to adapt its connections and steps to other components\ncontext. This morphing capability opens interesting possibilities to explore indeed.\nTo ease the calculation of the score for the GridSearchCV we add a neutral regressor as a last step, capable of\ncalculating the score using a default scoring function. This is much more convenient than worrying about programming\na custom scoring function for a block with an arbitrary number of inputs.\n\n"
      ]
    },
    {
      "cell_type": "code",
      "execution_count": null,
      "metadata": {
        "collapsed": false
      },
      "outputs": [],
      "source": [
        "scaler = MinMaxScaler()\ngaussian_mixture = GaussianMixture(n_components=3)\nmodels = RegressorsWithDataDependentNumberOfReplicas(regressor=LinearRegression())\nneutral_regressor = NeutralRegressor()\n\nsteps = [('scaler', scaler),\n         ('classifier', gaussian_mixture),\n         ('models', models),\n         ('neutral', neutral_regressor)]\n\nconnections = {'scaler': {'X': 'X'},\n               'classifier': {'X': 'scaler'},\n               'models': {'X': 'scaler',\n                          'y': 'y',\n                          'selection': 'classifier'},\n               'neutral': {'X': 'models'}\n               }\n\npgraph = PipeGraphRegressor(steps=steps, fit_connections=connections)"
      ]
    },
    {
      "cell_type": "markdown",
      "metadata": {},
      "source": [
        "Using GridSearchCV to find the best number of clusters and the best regressors\n\n\n"
      ]
    },
    {
      "cell_type": "code",
      "execution_count": null,
      "metadata": {
        "collapsed": false
      },
      "outputs": [],
      "source": [
        "from sklearn.model_selection import GridSearchCV\n\nparam_grid = {'classifier__n_components': range(2,10)}\ngs = GridSearchCV(estimator=pgraph, param_grid=param_grid, refit=True)\ngs.fit(X_train, y_train)\ny_pred = gs.predict(X_train)\nplt.scatter(X_train, y_train)\nplt.scatter(X_train, y_pred)\nprint(\"Score:\" , gs.score(X_test, y_test))\nprint(\"classifier__n_components:\", gs.best_estimator_.get_params()['classifier__n_components'])"
      ]
    }
  ],
  "metadata": {
    "kernelspec": {
      "display_name": "Python 3",
      "language": "python",
      "name": "python3"
    },
    "language_info": {
      "codemirror_mode": {
        "name": "ipython",
        "version": 3
      },
      "file_extension": ".py",
      "mimetype": "text/x-python",
      "name": "python",
      "nbconvert_exporter": "python",
      "pygments_lexer": "ipython3",
      "version": "3.6.1"
    }
  },
  "nbformat": 4,
  "nbformat_minor": 0
}