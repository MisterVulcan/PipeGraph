{
  "cells": [
    {
      "cell_type": "code",
      "execution_count": null,
      "metadata": {
        "collapsed": false
      },
      "outputs": [],
      "source": [
        "%matplotlib inline"
      ]
    },
    {
      "cell_type": "markdown",
      "metadata": {},
      "source": [
        "\n\nFirst example: A simple linear workflow\n-----------------------------------------\n\nLet's start with a simple example that could be perfectly expressed using a Pipeline. The data is transformed using a :class:`MinMaxScaler` step and the preprocessed data is fed to a linear model.\n\nSteps of the PipeGraph:\n\n- **scaler**: preprocesses the data using a :class:`MinMaxScaler` object\n- **linear_model**: fits and predicts a :class:`LinearRegression` model\n\n.. figure:: https://raw.githubusercontent.com/mcasl/PipeGraph/master/examples/images/Diapositiva1.png\n\n    Figure 1. PipeGraph diagram showing the steps and their connections\n\n\n.. figure:: https://raw.githubusercontent.com/mcasl/PipeGraph/master/examples/images/Diapositiva1-2.png\n\n    Figure 2. Illustration of the connections of the PipeGraph\n\n"
      ]
    },
    {
      "cell_type": "markdown",
      "metadata": {},
      "source": [
        "Firstly, we import the necessary libraries and create some artificial data\n\n"
      ]
    },
    {
      "cell_type": "code",
      "execution_count": null,
      "metadata": {
        "collapsed": false
      },
      "outputs": [],
      "source": [
        "import numpy as np\nimport matplotlib.pyplot as plt\nfrom sklearn.preprocessing import MinMaxScaler\nfrom sklearn.linear_model import LinearRegression\nfrom sklearn.pipeline import Pipeline\nfrom pipegraph import PipeGraphRegressor\n\nX = np.random.rand(100, 1)\ny = 4 * X + 0.5*np.random.randn(100, 1)"
      ]
    },
    {
      "cell_type": "markdown",
      "metadata": {},
      "source": [
        "Secondly, we define the steps of the PipeGraph as a list of tuples (label, sklearn object) as if we were defining a standard :class:`Pipeline`.\n\n"
      ]
    },
    {
      "cell_type": "code",
      "execution_count": null,
      "metadata": {
        "collapsed": false
      },
      "outputs": [],
      "source": [
        "scaler = MinMaxScaler()\nlinear_model = LinearRegression()\nsteps = [('scaler', scaler),\n        ('linear_model', linear_model)]"
      ]
    },
    {
      "cell_type": "markdown",
      "metadata": {},
      "source": [
        "Then, we need to provide the connections amongst steps as a dictionary. Please, refer to `Figure 2 <fig2>` for a faster understanding.\n\n- The keys of the top level entries of the dictionary must be the same as those of the previously defined steps.\n- The values assocciated to these keys define the variables from other steps that are going to be considered as inputs for the current step. They are dictionaries themselves, where:\n\n    - The keys of the nested dictionary represents the input variable as named at the current step.\n    - The values assocciated to these keys define the steps that hold the desired information, and the variables as named at that step. This information can be written as:\n\n        - A tuple with the label of the step in position 0 followed by the name of the output variable in position 1.\n        - A string representing a variable from an external source to the :class:`PipeGraphRegressor` object, such as those provided by the user while invoking the ``fit``, ``predict`` or ``fit_predict`` methods.\n\nFor instance, the linear model accepts as input ``X`` the output named ``predict`` at the ``scaler`` step, and as input ``y`` the value of ``y`` passed to ``fit``, ``predict`` or ``fit_predict`` methods.\n\n"
      ]
    },
    {
      "cell_type": "code",
      "execution_count": null,
      "metadata": {
        "collapsed": false
      },
      "outputs": [],
      "source": [
        "connections = { 'scaler': { 'X': 'X'},\n                'linear_model': {'X': ('scaler', 'predict'),\n                                 'y': 'y'}}"
      ]
    },
    {
      "cell_type": "markdown",
      "metadata": {},
      "source": [
        "Once the steps and the connections are defined, we instantiate a :class:`PipeGraphRegressor` and show the results from applying ``fit`` and ``predict`` and predict data. Use PipeGraphRegressor when the result is a regression.\n\n"
      ]
    },
    {
      "cell_type": "code",
      "execution_count": null,
      "metadata": {
        "collapsed": false
      },
      "outputs": [],
      "source": [
        "pgraph = PipeGraphRegressor(steps=steps, connections=connections)\npgraph.fit(X, y)\ny_pred = pgraph.predict(X)\n\nplt.scatter(X, y, label='Original Data')\nplt.scatter(X, y_pred, label='Predicted Data')\nplt.title('Plots of original and predicted data')\nplt.legend(loc='best')\nplt.grid(True)\nplt.xlabel('Index')\nplt.ylabel('Value of Data')\nplt.show()"
      ]
    },
    {
      "cell_type": "markdown",
      "metadata": {},
      "source": [
        "This example described the basic configuration of a :class:`PipeGraphRegressor`. The `following examples <example2>` show more elaborated cases in order of increasing complexity.\n\n"
      ]
    }
  ],
  "metadata": {
    "kernelspec": {
      "display_name": "Python 3",
      "language": "python",
      "name": "python3"
    },
    "language_info": {
      "codemirror_mode": {
        "name": "ipython",
        "version": 3
      },
      "file_extension": ".py",
      "mimetype": "text/x-python",
      "name": "python",
      "nbconvert_exporter": "python",
      "pygments_lexer": "ipython3",
      "version": "3.6.1"
    }
  },
  "nbformat": 4,
  "nbformat_minor": 0
}