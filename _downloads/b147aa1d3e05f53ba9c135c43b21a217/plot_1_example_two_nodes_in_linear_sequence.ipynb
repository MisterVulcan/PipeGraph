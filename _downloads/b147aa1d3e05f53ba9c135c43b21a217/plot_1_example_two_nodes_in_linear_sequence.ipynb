{
  "cells": [
    {
      "cell_type": "code",
      "execution_count": null,
      "metadata": {
        "collapsed": false
      },
      "outputs": [],
      "source": [
        "%matplotlib inline"
      ]
    },
    {
      "cell_type": "markdown",
      "metadata": {},
      "source": [
        "\n\nFirst example: A simple linear workflow\n-----------------------------------------\n\nLet's start with a simple example that could be perfectly expressed using a :class:`Pipeline`. The data is transformed using a :class:`MinMaxScaler` step and the preprocessed data is fed to a linear model.\n\nSteps of the **PipeGraph**:\n\n- **scaler**: preprocesses the data using a :class:`MinMaxScaler` object\n- **linear_model**: fits and predicts a :class:`LinearRegression` model\n\n.. figure:: https://raw.githubusercontent.com/mcasl/PipeGraph/master/examples/images/Diapositiva1.png\n\n    Figure 1. PipeGraph diagram showing the steps and their connections\n\n\n.. figure:: https://raw.githubusercontent.com/mcasl/PipeGraph/master/examples/images/Diapositiva1-2.png\n\n    Figure 2. Illustration of the connections of the PipeGraph\n\n"
      ]
    },
    {
      "cell_type": "markdown",
      "metadata": {},
      "source": [
        "Firstly, we import the necessary libraries and create some artificial data\n\n"
      ]
    },
    {
      "cell_type": "code",
      "execution_count": null,
      "metadata": {
        "collapsed": false
      },
      "outputs": [],
      "source": [
        "import numpy as np\nimport matplotlib.pyplot as plt\nfrom sklearn.preprocessing import MinMaxScaler\nfrom sklearn.linear_model import LinearRegression\nfrom sklearn.pipeline import Pipeline\nfrom pipegraph import PipeGraph\n\nX = np.random.rand(100, 1)\ny = 4 * X + 0.5*np.random.randn(100, 1)"
      ]
    },
    {
      "cell_type": "markdown",
      "metadata": {},
      "source": [
        "Secondly, we define the steps of the **PipeGraph** as a list of tuples (label, sklearn object) as if we were defining a standard :class:`Pipeline`.\n\n"
      ]
    },
    {
      "cell_type": "code",
      "execution_count": null,
      "metadata": {
        "collapsed": false
      },
      "outputs": [],
      "source": [
        "scaler = MinMaxScaler()\nlinear_model = LinearRegression()\nsteps = [('scaler', scaler),\n        ('linear_model', linear_model)]"
      ]
    },
    {
      "cell_type": "markdown",
      "metadata": {},
      "source": [
        "As the last step is a regressor, a :class:`PipeGraphRegressor` is instantiated.\n The results from applying ``fit`` and ``predict`` and predict data are shown.\n\n"
      ]
    },
    {
      "cell_type": "code",
      "execution_count": null,
      "metadata": {
        "collapsed": false
      },
      "outputs": [],
      "source": [
        "pgraph = PipeGraph(steps=steps)\npgraph.fit(X, y)\ny_pred = pgraph.predict(X)\n\nplt.scatter(X, y, label='Original Data')\nplt.scatter(X, y_pred, label='Predicted Data')\nplt.title('Plots of original and predicted data')\nplt.legend(loc='best')\nplt.grid(True)\nplt.xlabel('Index')\nplt.ylabel('Value of Data')\nplt.show()"
      ]
    },
    {
      "cell_type": "markdown",
      "metadata": {},
      "source": [
        "This example described the basic configuration of a :class:`PipeGraphRegressor`. The `following examples <example2>` show more elaborated cases in order of increasing complexity.\n\n"
      ]
    }
  ],
  "metadata": {
    "kernelspec": {
      "display_name": "Python 3",
      "language": "python",
      "name": "python3"
    },
    "language_info": {
      "codemirror_mode": {
        "name": "ipython",
        "version": 3
      },
      "file_extension": ".py",
      "mimetype": "text/x-python",
      "name": "python",
      "nbconvert_exporter": "python",
      "pygments_lexer": "ipython3",
      "version": "3.6.7"
    }
  },
  "nbformat": 4,
  "nbformat_minor": 0
}