{
  "cells": [
    {
      "cell_type": "code",
      "execution_count": null,
      "metadata": {
        "collapsed": false
      },
      "outputs": [],
      "source": [
        "%matplotlib inline"
      ]
    },
    {
      "cell_type": "markdown",
      "metadata": {},
      "source": [
        "\n\nEighth Example: # Dynamically built component using input signal values during the fit stage\n--------------------------------------------------------------------------------------------\n\nWe continue demonstrating several interesting features:\n 1. How the user can choose to encapsulate several blocks into a PipeGraph and use it as a single unit in another PipeGraph\n 2. How these components can be dynamically built on runtime depending on initialization parameters\n 3. How these components can be dynamically built on runtime depending on input signal values during fit\n 4. Using GridSearchCV to explore the best combination of hyperparameters\n\n\n"
      ]
    },
    {
      "cell_type": "code",
      "execution_count": null,
      "metadata": {
        "collapsed": false
      },
      "outputs": [],
      "source": [
        "import numpy as np\nimport pandas as pd\nimport matplotlib.pyplot as plt\nfrom sklearn.preprocessing import MinMaxScaler\nfrom sklearn.mixture import GaussianMixture\n\nfrom sklearn.linear_model import LinearRegression\nfrom pipegraph.base import PipeGraphRegressor, RegressorsWithDataDependentNumberOfReplicas\n\nX_first = pd.Series(np.random.rand(100,))\ny_first = pd.Series(4 * X_first + 0.5*np.random.randn(100,))\nX_second = pd.Series(np.random.rand(100,) + 3)\ny_second = pd.Series(-4 * X_second + 0.5*np.random.randn(100,))\nX_third = pd.Series(np.random.rand(100,) + 6)\ny_third = pd.Series(2 * X_third + 0.5*np.random.randn(100,))\n\nX = pd.concat([X_first, X_second, X_third], axis=0).to_frame()\ny = pd.concat([y_first, y_second, y_third], axis=0).to_frame()"
      ]
    },
    {
      "cell_type": "markdown",
      "metadata": {},
      "source": [
        "Now we consider the possibility of using the classifier's output to automatically adjust the number of replicas.\nThis can be seen as PipeGraph changing its inner topology to adapt its connections and steps to other components\ncontext. This morphing capability opens interesting possibilities to explore indeed.\n\n"
      ]
    },
    {
      "cell_type": "code",
      "execution_count": null,
      "metadata": {
        "collapsed": false
      },
      "outputs": [],
      "source": [
        "import inspect\nprint(inspect.getsource(RegressorsWithDataDependentNumberOfReplicas))"
      ]
    },
    {
      "cell_type": "markdown",
      "metadata": {},
      "source": [
        "Using this new component we can build a simplified PipeGraph:\n\n"
      ]
    },
    {
      "cell_type": "code",
      "execution_count": null,
      "metadata": {
        "collapsed": false
      },
      "outputs": [],
      "source": [
        "scaler = MinMaxScaler()\ngaussian_mixture = GaussianMixture(n_components=3)\nmodels = RegressorsWithDataDependentNumberOfReplicas(model_prototype=LinearRegression(), model_parameters={})\n\nsteps = [('scaler', scaler),\n         ('classifier', gaussian_mixture),\n         ('models', models), ]\n\nconnections = {'scaler': {'X': 'X'},\n               'classifier': {'X': 'scaler'},\n               'models': {'X': 'scaler',\n                          'y': 'y',\n                          'selection': 'classifier'},\n               }\n\npgraph = PipeGraphRegressor(steps=steps, fit_connections=connections)\npgraph.fit(X, y)\ny_pred = pgraph.predict(X)\nplt.scatter(X, y)\nplt.scatter(X, y_pred)"
      ]
    }
  ],
  "metadata": {
    "kernelspec": {
      "display_name": "Python 3",
      "language": "python",
      "name": "python3"
    },
    "language_info": {
      "codemirror_mode": {
        "name": "ipython",
        "version": 3
      },
      "file_extension": ".py",
      "mimetype": "text/x-python",
      "name": "python",
      "nbconvert_exporter": "python",
      "pygments_lexer": "ipython3",
      "version": "3.6.1"
    }
  },
  "nbformat": 4,
  "nbformat_minor": 0
}