{
  "cells": [
    {
      "cell_type": "code",
      "execution_count": null,
      "metadata": {
        "collapsed": false
      },
      "outputs": [],
      "source": [
        "%matplotlib inline"
      ]
    },
    {
      "cell_type": "markdown",
      "metadata": {},
      "source": [
        "\n\nFifth Example: Demultiplexor - multiplexor\n-----------------------------------------------\n\nAn imaginative layout using a classifier to predict the cluster labels and fitting a separate model for each cluster.\n\nSteps of the **PipeGraph**:\n\n- **scaler**: A :class:`MinMaxScaler` data preprocessor\n- **classifier**: A :class:`GaussianMixture` classifier\n- **demux**: A custom :class:`Demultiplexer` class in charge of splitting the input arrays accordingly to the selection input vector\n- **lm_0**: A :class:`LinearRegression` model\n- **lm_1**: A :class:`LinearRegression` model\n- **lm_2**: A :class:`LinearRegression` model\n- **mux**: A custom :class:`Multiplexer` class in charge of combining different input arrays into a single one accordingly to the selection input vector\n\n.. figure:: https://raw.githubusercontent.com/mcasl/PipeGraph/master/examples/images/Diapositiva5.png\n\n    Figure 1. PipeGraph diagram showing the steps and their connections\n\n"
      ]
    },
    {
      "cell_type": "code",
      "execution_count": null,
      "metadata": {
        "collapsed": false
      },
      "outputs": [],
      "source": [
        "import numpy as np\nimport pandas as pd\nfrom sklearn.preprocessing import MinMaxScaler\nfrom sklearn.linear_model import LinearRegression\nfrom sklearn.model_selection import GridSearchCV\nfrom pipegraph.base import PipeGraphRegressor, Demultiplexer, Multiplexer\nimport matplotlib.pyplot as plt\nfrom sklearn.mixture import GaussianMixture\n\nX_first = pd.Series(np.random.rand(100,))\ny_first = pd.Series(4 * X_first + 0.5*np.random.randn(100,))\nX_second = pd.Series(np.random.rand(100,) + 3)\ny_second = pd.Series(-4 * X_second + 0.5*np.random.randn(100,))\nX_third = pd.Series(np.random.rand(100,) + 6)\ny_third = pd.Series(2 * X_third + 0.5*np.random.randn(100,))\n\nX = pd.concat([X_first, X_second, X_third], axis=0).to_frame()\ny = pd.concat([y_first, y_second, y_third], axis=0).to_frame()\n\nscaler = MinMaxScaler()\ngaussian_mixture = GaussianMixture(n_components=3)\ndemux = Demultiplexer()\nlm_0 = LinearRegression()\nlm_1 = LinearRegression()\nlm_2 = LinearRegression()\nmux = Multiplexer()\n\n\nsteps = [('scaler', scaler),\n         ('classifier', gaussian_mixture),\n         ('demux', demux),\n         ('lm_0', lm_0),\n         ('lm_1', lm_1),\n         ('lm_2', lm_2),\n         ('mux', mux), ]"
      ]
    },
    {
      "cell_type": "markdown",
      "metadata": {},
      "source": [
        "Instead of using ``inject`` as in previous example, in this one we are going to pass a dictionary\ndescribing the connections to PipeGraph constructor\n\n"
      ]
    },
    {
      "cell_type": "code",
      "execution_count": null,
      "metadata": {
        "collapsed": false
      },
      "outputs": [],
      "source": [
        "connections = { 'scaler': {'X': 'X'},\n                'classifier': {'X': 'scaler'},\n                'demux': {'X': 'scaler',\n                          'y': 'y',\n                          'selection': 'classifier'},\n                'lm_0': {'X': ('demux', 'X_0'),\n                         'y': ('demux', 'y_0')},\n                'lm_1': {'X': ('demux', 'X_1'),\n                         'y': ('demux', 'y_1')},\n                'lm_2': {'X': ('demux', 'X_2'),\n                         'y': ('demux', 'y_2')},\n                'mux': {'0': 'lm_0',\n                        '1': 'lm_1',\n                        '2': 'lm_2',\n                        'selection': 'classifier'}}\n\npgraph = PipeGraphRegressor(steps=steps, fit_connections=connections)\npgraph.fit(X, y)\n#%%\ny_pred = pgraph.predict(X)\nplt.scatter(X, y)\nplt.scatter(X, y_pred)"
      ]
    }
  ],
  "metadata": {
    "kernelspec": {
      "display_name": "Python 3",
      "language": "python",
      "name": "python3"
    },
    "language_info": {
      "codemirror_mode": {
        "name": "ipython",
        "version": 3
      },
      "file_extension": ".py",
      "mimetype": "text/x-python",
      "name": "python",
      "nbconvert_exporter": "python",
      "pygments_lexer": "ipython3",
      "version": "3.6.1"
    }
  },
  "nbformat": 4,
  "nbformat_minor": 0
}