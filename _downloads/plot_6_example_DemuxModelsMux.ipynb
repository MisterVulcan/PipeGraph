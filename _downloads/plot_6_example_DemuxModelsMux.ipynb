{
  "cells": [
    {
      "cell_type": "code",
      "execution_count": null,
      "metadata": {
        "collapsed": false
      },
      "outputs": [],
      "source": [
        "%matplotlib inline"
      ]
    },
    {
      "cell_type": "markdown",
      "metadata": {},
      "source": [
        "\n\nSixth Example: Encapsulating several blocks into a PipeGraph and reusing it\n---------------------------------------------------------------------------\n\nA demonstration of several interesting features will be done in the following examples:\n 1. How the user can choose to encapsulate several blocks into a PipeGraph and use it as a single unit in another PipeGraph\n 2. How these components can be dynamically built on runtime depending on initialization parameters\n 3. How these components can be dynamically built on runtime depending on input signal values during fit\n 4. Using GridSearchCV to explore the best combination of hyperparameters\n\nWe consider Example number five in which we had the following steps:\n\n- **scaler**: A :class:`MinMaxScaler` data preprocessor\n- **classifier**: A :class:`GaussianMixture` classifier\n- **demux** in charge of splitting the input arrays accordingly to the selection input vector\n- **lm_0**: A :class:`LinearRegression` model\n- **lm_1**: A :class:`LinearRegression` model\n- **lm_2**: A :class:`LinearRegression` model\n- **mux**: A custom :class:`Multiplexer` class in charge of combining different input arrays into a single one accordingly to the selection input vector\n\nFor instance, we can find interesting to encapsulate the Demultiplexer, the linear model collection, and the Multiplexer into a single unit:\nWe prepare the data and build a PipeGraph with these steps alone:\n\n"
      ]
    },
    {
      "cell_type": "code",
      "execution_count": null,
      "metadata": {
        "collapsed": false
      },
      "outputs": [],
      "source": [
        "import numpy as np\nimport pandas as pd\nimport matplotlib.pyplot as plt\nfrom sklearn.preprocessing import MinMaxScaler\nfrom sklearn.mixture import GaussianMixture\nfrom sklearn.linear_model import LinearRegression\nfrom pipegraph.base import PipeGraph, PipeGraphRegressor, Demultiplexer, Multiplexer\n\nX_first = pd.Series(np.random.rand(100,))\ny_first = pd.Series(4 * X_first + 0.5*np.random.randn(100,))\nX_second = pd.Series(np.random.rand(100,) + 3)\ny_second = pd.Series(-4 * X_second + 0.5*np.random.randn(100,))\nX_third = pd.Series(np.random.rand(100,) + 6)\ny_third = pd.Series(2 * X_third + 0.5*np.random.randn(100,))\n\nX = pd.concat([X_first, X_second, X_third], axis=0).to_frame()\ny = pd.concat([y_first, y_second, y_third], axis=0).to_frame()\n\n\ndemux = Demultiplexer()\nlm_0 = LinearRegression()\nlm_1 = LinearRegression()\nlm_2 = LinearRegression()\nmux = Multiplexer()\n\nthree_multiplexed_models_steps = [\n         ('demux', demux),\n         ('lm_0', lm_0),\n         ('lm_1', lm_1),\n         ('lm_2', lm_2),\n         ('mux', mux), ]\n\nthree_multiplexed_models_connections = {\n                'demux': {'X': 'X',\n                          'y': 'y',\n                          'selection': 'selection'},\n                'lm_0': {'X': ('demux', 'X_0'),\n                         'y': ('demux', 'y_0')},\n                'lm_1': {'X': ('demux', 'X_1'),\n                         'y': ('demux', 'y_1')},\n                'lm_2': {'X': ('demux', 'X_2'),\n                         'y': ('demux', 'y_2')},\n                'mux': {'0': 'lm_0',\n                        '1': 'lm_1',\n                        '2': 'lm_2',\n                        'selection': 'selection'}}\n\nthree_multiplexed_models = PipeGraph(steps=three_multiplexed_models_steps,\n                                     fit_connections=three_multiplexed_models_connections )"
      ]
    },
    {
      "cell_type": "markdown",
      "metadata": {},
      "source": [
        "Now we can treat this PipeGraph as a reusable component and use it as a unitary step in another PipeGraph:\n\n"
      ]
    },
    {
      "cell_type": "code",
      "execution_count": null,
      "metadata": {
        "collapsed": false
      },
      "outputs": [],
      "source": [
        "scaler = MinMaxScaler()\ngaussian_mixture = GaussianMixture(n_components=3)\nmodels = three_multiplexed_models\n\nsteps = [('scaler', scaler),\n         ('classifier', gaussian_mixture),\n         ('models', three_multiplexed_models), ]\n\nconnections = {'scaler': {'X': 'X'},\n               'classifier': {'X': 'scaler'},\n               'models': {'X': 'scaler',\n                          'y': 'y',\n                          'selection': 'classifier'},\n               }\n\npgraph = PipeGraphRegressor(steps=steps, fit_connections=connections)\npgraph.fit(X, y)\ny_pred = pgraph.predict(X)\nplt.scatter(X, y)\nplt.scatter(X, y_pred)"
      ]
    }
  ],
  "metadata": {
    "kernelspec": {
      "display_name": "Python 3",
      "language": "python",
      "name": "python3"
    },
    "language_info": {
      "codemirror_mode": {
        "name": "ipython",
        "version": 3
      },
      "file_extension": ".py",
      "mimetype": "text/x-python",
      "name": "python",
      "nbconvert_exporter": "python",
      "pygments_lexer": "ipython3",
      "version": "3.6.1"
    }
  },
  "nbformat": 4,
  "nbformat_minor": 0
}