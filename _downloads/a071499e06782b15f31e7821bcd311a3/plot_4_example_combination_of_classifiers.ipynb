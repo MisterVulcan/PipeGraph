{
  "cells": [
    {
      "cell_type": "code",
      "execution_count": null,
      "metadata": {
        "collapsed": false
      },
      "outputs": [],
      "source": [
        "%matplotlib inline"
      ]
    },
    {
      "cell_type": "markdown",
      "metadata": {},
      "source": [
        "\n\nFourth Example: Combination of classifiers\n-------------------------------------------------\n\nA set of classifiers is combined as input to a neural network. Additionally, the scaled inputs are injected as well to\nthe neural network. The data is firstly transformed by scaling its features.\n\nSteps of the **PipeGraph**:\n\n- **scaler**: A :class:`MinMaxScaler` data preprocessor\n- **gaussian_nb**: A :class:`GaussianNB` classifier\n- **svc**: A :class:`SVC` classifier\n- **concat**: A :class:`Concatenator` custom class that appends the outputs of the :class:`GaussianNB`, :class:`SVC` classifiers, and the scaled inputs.\n- **mlp**: A :class:`MLPClassifier` object\n\n.. figure:: https://raw.githubusercontent.com/mcasl/PipeGraph/master/examples/images/Diapositiva4.png\n\n    Figure 1. PipeGraph diagram showing the steps and their connections\n\n"
      ]
    },
    {
      "cell_type": "code",
      "execution_count": null,
      "metadata": {
        "collapsed": false
      },
      "outputs": [],
      "source": [
        "import numpy as np\nimport pandas as pd\nfrom sklearn.preprocessing import MinMaxScaler\nfrom sklearn.preprocessing import PolynomialFeatures\nfrom sklearn.linear_model import LinearRegression\nfrom sklearn.model_selection import GridSearchCV\nfrom pipegraph.base import PipeGraph, Concatenator\nimport matplotlib.pyplot as plt\nfrom sklearn.datasets import load_iris\nfrom sklearn.naive_bayes import GaussianNB\nfrom sklearn.svm import SVC\nfrom sklearn.neural_network import MLPClassifier\n\niris = load_iris()\nX = iris.data\ny = iris.target\n\nscaler = MinMaxScaler()\ngaussian_nb = GaussianNB()\nsvc = SVC()\nmlp = MLPClassifier()\nconcatenator = Concatenator()\n\nsteps = [('scaler', scaler),\n         ('gaussian_nb', gaussian_nb),\n         ('svc', svc),\n         ('concat', concatenator),\n         ('mlp', mlp)]"
      ]
    },
    {
      "cell_type": "markdown",
      "metadata": {},
      "source": [
        "In this example we use a :class:`PipeGraphClassifier` because the result is a classification and we want to take advantage of Scikit-Learn default scoring method for classifiers.\n\n"
      ]
    },
    {
      "cell_type": "code",
      "execution_count": null,
      "metadata": {
        "collapsed": false
      },
      "outputs": [],
      "source": [
        "pgraph = PipeGraph(steps=steps)\n(pgraph.inject(sink='scaler', sink_var='X', source='_External', source_var='X')\n       .inject('gaussian_nb', 'X', 'scaler')\n       .inject('gaussian_nb', 'y', source_var='y')\n       .inject('svc', 'X', 'scaler')\n       .inject('svc', 'y', source_var='y')\n       .inject('concat', 'X1', 'scaler')\n       .inject('concat', 'X2', 'gaussian_nb')\n       .inject('concat', 'X3', 'svc')\n       .inject('mlp', 'X', 'concat')\n       .inject('mlp', 'y', source_var='y')\n)\n\nparam_grid = {'svc__C': [0.1, 0.5, 1.0],\n              'mlp__hidden_layer_sizes': [(3,), (6,), (9,),],\n              'mlp__max_iter': [5000, 10000]}\n\ngrid_search_classifier  = GridSearchCV(estimator=pgraph, param_grid=param_grid, refit=True)\ngrid_search_classifier.fit(X, y)\ny_pred = grid_search_classifier.predict(X)\n\ngrid_search_classifier.best_estimator_.get_params()\n\n\n# Code for plotting the confusion matrix taken\n#  from 'Python Data Science Handbook' by Jake VanderPlas\nfrom sklearn.metrics import confusion_matrix\nimport seaborn as sns; sns.set()  # for plot styling\n\nmat = confusion_matrix(y_pred, y)\nsns.heatmap(mat.T, square=True, annot=True, fmt='d', cbar=False)\nplt.xlabel('true label')\nplt.ylabel('predicted label');\n\nplt.show()"
      ]
    },
    {
      "cell_type": "markdown",
      "metadata": {},
      "source": [
        "This example displayed complex data injections that are successfully managed by **PipeGraph**.\nNext example `on <example5>`.\n\n"
      ]
    }
  ],
  "metadata": {
    "kernelspec": {
      "display_name": "Python 3",
      "language": "python",
      "name": "python3"
    },
    "language_info": {
      "codemirror_mode": {
        "name": "ipython",
        "version": 3
      },
      "file_extension": ".py",
      "mimetype": "text/x-python",
      "name": "python",
      "nbconvert_exporter": "python",
      "pygments_lexer": "ipython3",
      "version": "3.6.6"
    }
  },
  "nbformat": 4,
  "nbformat_minor": 0
}