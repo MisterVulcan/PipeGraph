{
  "cells": [
    {
      "cell_type": "code",
      "execution_count": null,
      "metadata": {
        "collapsed": false
      },
      "outputs": [],
      "source": [
        "%matplotlib inline"
      ]
    },
    {
      "cell_type": "markdown",
      "metadata": {},
      "source": [
        "\n\nThird Example: Injecting varying ``sample_weight`` vectors to a linear regression model for GridSearchCV\n-------------------------------------------------------------------------------------------------------------------\nThis example illustrates a case in which a varying vector is injected to a linear regression model as ``sample_weight`` in order to evaluate them and obtain the sample_weight that generates the best results.\nLet's imagine we have a sample_weight vector and different powers of the vector are needed to be evaluated. To perform such experiment, the following issues appear:\n\n- The shape of the graph is not a linear sequence as those that can be implemented using Pipeline.\n- More than two variables (typically: ``X`` and ``y``) need to be accordingly split in order to perform the cross validation with GridSearchCV, in this case: ``X``, ``y`` and ``sample_weight``.\n- The information provided to the  ``sample_weight`` parameter of the LinearRegression step varies on the different scenarios explored by GridSearchCV. In a GridSearchCV with Pipeline, ``sample_weight`` can't vary because it is treated as a ``fit_param`` instead of a variable.\n\nSteps of the **PipeGraph**:\n\n- **selector**: Featuring a :class:`ColumnSelector` custom step. This is not a sklearn original object but a custom class that allows to split an array into columns. In this case, ``X`` augmented data is column-wise divided as specified in a mapping dictionary. We previously created an augmented ``X`` in which all data but ``y`` is concatenated and it will be used by :class:`GridSearchCV` to make the cross validation splits. **selector** step de-concatenates such data.\n- **custom_power**: Featuring a :class:`CustomPower` custom class. A simple transformation of the input data that is powered to a specified power as indicated in ``param_grid``.\n- **scaler**: implements :class:`MinMaxScaler` class\n- **polynomial_features**: Contains a :class:`PolynomialFeatures` object\n- **linear_model**: Contains a :class:`LinearRegression` model\n\n.. figure:: https://raw.githubusercontent.com/mcasl/PipeGraph/master/examples/images/Diapositiva3.png\n\n    Figure 1. PipeGraph diagram showing the steps and their connections\n\n"
      ]
    },
    {
      "cell_type": "code",
      "execution_count": null,
      "metadata": {
        "collapsed": false
      },
      "outputs": [],
      "source": [
        "import numpy as np\nimport pandas as pd\nfrom sklearn.preprocessing import MinMaxScaler\nfrom sklearn.preprocessing import PolynomialFeatures\nfrom sklearn.linear_model import LinearRegression\nfrom sklearn.model_selection import GridSearchCV\nfrom pipegraph.base import PipeGraphRegressor, ColumnSelector, Reshape\nfrom pipegraph.demo_blocks import CustomPower\nimport matplotlib.pyplot as plt"
      ]
    },
    {
      "cell_type": "markdown",
      "metadata": {},
      "source": [
        "We create an augmented ``X`` in which all data but ``y`` is concatenated. In this case, we concatenate ``X`` and ``sample_weight`` vector.\n\n"
      ]
    },
    {
      "cell_type": "code",
      "execution_count": null,
      "metadata": {
        "collapsed": false
      },
      "outputs": [],
      "source": [
        "X = pd.DataFrame(dict(X=np.array([   1,    2,    3,    4,    5,    6,    7,    8,    9,   10,   11]),\n          sample_weight=np.array([0.01, 0.95, 0.10, 0.95, 0.95, 0.10, 0.10, 0.95, 0.95, 0.95, 0.01])))\ny = np.array(                    [  10,    4,   20,   16,   25 , -60,   85,   64,   81,  100,  150])"
      ]
    },
    {
      "cell_type": "markdown",
      "metadata": {},
      "source": [
        "Next we define the steps and we use :class:`PipeGraphRegressor` as estimator for :class:`GridSearchCV`.\n\n"
      ]
    },
    {
      "cell_type": "code",
      "execution_count": null,
      "metadata": {
        "collapsed": false
      },
      "outputs": [],
      "source": [
        "scaler = MinMaxScaler()\npolynomial_features = PolynomialFeatures()\nlinear_model = LinearRegression()\ncustom_power = CustomPower()\nselector = ColumnSelector(mapping={'X': slice(0, 1),\n                                   'sample_weight': slice(1,2)})\n\nsteps = [('selector', selector),\n         ('custom_power', custom_power),\n         ('scaler', scaler),\n         ('polynomial_features', polynomial_features),\n         ('linear_model', linear_model)]\n\npgraph = PipeGraphRegressor(steps=steps)\n\n(pgraph.inject(sink='selector', sink_var='X', source='_External', source_var='X')\n       .inject('custom_power', 'X', 'selector', 'sample_weight')\n       .inject('scaler', 'X', 'selector', 'X')\n       .inject('polynomial_features', 'X', 'scaler')\n       .inject('linear_model', 'X',  'polynomial_features')\n       .inject('linear_model', 'y', source_var='y')\n       .inject('linear_model', 'sample_weight', 'custom_power'))"
      ]
    },
    {
      "cell_type": "markdown",
      "metadata": {},
      "source": [
        "Then we define ``param_grid`` as expected by :class:`GridSearchCV` exploring a few possibilities\n of varying parameters.\n\n"
      ]
    },
    {
      "cell_type": "code",
      "execution_count": null,
      "metadata": {
        "collapsed": false
      },
      "outputs": [],
      "source": [
        "param_grid = {'polynomial_features__degree': range(1, 3),\n              'linear_model__fit_intercept': [True, False],\n              'custom_power__power': [1, 5, 10, 20, 30]}\n\n\n\ngrid_search_regressor = GridSearchCV(estimator=pgraph, param_grid=param_grid, refit=True)\ngrid_search_regressor.fit(X, y)\ny_pred = grid_search_regressor.predict(X)\n\nplt.scatter(X.loc[:,'X'], y)\nplt.scatter(X.loc[:,'X'], y_pred)\nplt.show()\n\npower = grid_search_regressor.best_estimator_.get_params()['custom_power']\nprint('Power that obtains the best results in the linear model: \\n {}'.format(power))"
      ]
    },
    {
      "cell_type": "markdown",
      "metadata": {},
      "source": [
        "This example displayed a non linear workflow successfully implemented by **PipeGraph**, while at the same time showing a way to circumvent current limitations of standard :class:`GridSearchCV`, in particular, the retriction on the number of input parameters.\n`Next examples <example4>` show more elaborated examples in increasing complexity order.\n\n"
      ]
    }
  ],
  "metadata": {
    "kernelspec": {
      "display_name": "Python 3",
      "language": "python",
      "name": "python3"
    },
    "language_info": {
      "codemirror_mode": {
        "name": "ipython",
        "version": 3
      },
      "file_extension": ".py",
      "mimetype": "text/x-python",
      "name": "python",
      "nbconvert_exporter": "python",
      "pygments_lexer": "ipython3",
      "version": "3.6.1"
    }
  },
  "nbformat": 4,
  "nbformat_minor": 0
}